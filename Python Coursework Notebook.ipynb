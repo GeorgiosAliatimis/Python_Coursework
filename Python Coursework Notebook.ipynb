{
 "cells": [
  {
   "cell_type": "markdown",
   "id": "08fec0e8",
   "metadata": {},
   "source": [
    "## Task 1"
   ]
  },
  {
   "cell_type": "code",
   "execution_count": 1,
   "id": "64a72938",
   "metadata": {},
   "outputs": [],
   "source": [
    "from typing import Iterable, Dict, List, Sequence, Any, Tuple"
   ]
  },
  {
   "cell_type": "markdown",
   "id": "1b1d79bb",
   "metadata": {},
   "source": [
    "### Binary numbers"
   ]
  },
  {
   "cell_type": "markdown",
   "id": "638c364c",
   "metadata": {},
   "source": [
    "In this exercise, the inputs are positive integers so we define an assertions \n",
    "function which verifies that."
   ]
  },
  {
   "cell_type": "code",
   "execution_count": 2,
   "id": "7be3bbc6",
   "metadata": {},
   "outputs": [],
   "source": [
    "def assertions(num:int) -> None:\n",
    "    '''\n",
    "    Input: num \n",
    "    This function asserts whether the input num is a positive integer\n",
    "    '''\n",
    "    assert isinstance(num,int), \"Input to binary_digit_sum should be int\"\n",
    "    assert num > 0, \"Input integer should be positive\""
   ]
  },
  {
   "cell_type": "markdown",
   "id": "7f8b878d",
   "metadata": {},
   "source": [
    "The first function returns the sum of digits of a number when it is written in binary. We run this function for num=12."
   ]
  },
  {
   "cell_type": "code",
   "execution_count": 3,
   "id": "0f077cfe",
   "metadata": {},
   "outputs": [],
   "source": [
    "def binary_digit_sum(num: int) -> int:\n",
    "    ''' \n",
    "    Input: num \n",
    "    Output: sum of digits of num in binary. \n",
    "    Example: num = 12 (base 10) = 1100 (base 2) => output 1+1+0+0 = 2\n",
    "    '''\n",
    "    assertions(num)\n",
    "    res = 0\n",
    "    while num:  num, res = num//2, res + num%2\n",
    "    return res"
   ]
  },
  {
   "cell_type": "code",
   "execution_count": 4,
   "id": "821df570",
   "metadata": {},
   "outputs": [
    {
     "name": "stdout",
     "output_type": "stream",
     "text": [
      "The binary digit sum of 12 is 2.\n"
     ]
    }
   ],
   "source": [
    "num = 12\n",
    "print(\"The binary digit sum of {} is {}.\".format(num,binary_digit_sum(num)))"
   ]
  },
  {
   "cell_type": "markdown",
   "id": "3eba13b0",
   "metadata": {},
   "source": [
    "We now write the binary representation of a number (given in base 10) as a list."
   ]
  },
  {
   "cell_type": "code",
   "execution_count": 5,
   "id": "72b5a8b0",
   "metadata": {},
   "outputs": [],
   "source": [
    "def binary_array(num: int) -> List[str]:\n",
    "    '''\n",
    "    Input: num \n",
    "    Output: list of digits of num in binary.\n",
    "    Example: num = 12 (base 10) = 1100 (base 2) => output ['1', '1', '0', '0']\n",
    "    '''\n",
    "    assertions(num)\n",
    "    return list(bin(num)[2:])"
   ]
  },
  {
   "cell_type": "code",
   "execution_count": 6,
   "id": "83117956",
   "metadata": {},
   "outputs": [
    {
     "name": "stdout",
     "output_type": "stream",
     "text": [
      "The binary array representation of 12 is ['1', '1', '0', '0'].\n"
     ]
    }
   ],
   "source": [
    "print(\"The binary array representation of {} is {}.\".format(num,binary_array(num)))"
   ]
  },
  {
   "cell_type": "markdown",
   "id": "5bb29fa3",
   "metadata": {},
   "source": [
    "### Groups of people"
   ]
  },
  {
   "cell_type": "markdown",
   "id": "89146560",
   "metadata": {},
   "source": [
    "We now write a function that computes the number of ways we can split a group of people in two."
   ]
  },
  {
   "cell_type": "code",
   "execution_count": 7,
   "id": "25489cee",
   "metadata": {},
   "outputs": [],
   "source": [
    "from math import comb\n",
    "def num_comb_group_in_half(k: int) -> int:\n",
    "    '''\n",
    "    There are 2k people in a group, k>0. \n",
    "    Output: Number of ways of spliting the group to two equally sized groups of k people.\n",
    "    '''\n",
    "    assertions(k)\n",
    "    # There are n choose m ways to split a group of n people into groups of m and n-m. \n",
    "    # Hence our answer is 2k choose k.\n",
    "    return comb(2*k,k)"
   ]
  },
  {
   "cell_type": "code",
   "execution_count": 8,
   "id": "f99ec1b9",
   "metadata": {},
   "outputs": [
    {
     "name": "stdout",
     "output_type": "stream",
     "text": [
      "There are 6 ways of splitting a group of 4 people in groups of 2.\n"
     ]
    }
   ],
   "source": [
    "k = 2\n",
    "print(\"There are {} ways of splitting a group of {} people in groups of {}.\".format(\n",
    "    num_comb_group_in_half(k), 2* k, k\n",
    "))"
   ]
  },
  {
   "cell_type": "markdown",
   "id": "dc71eba5",
   "metadata": {},
   "source": [
    "Finally we write a function that returns the possible combinations of half-groups that can be formed from the original group."
   ]
  },
  {
   "cell_type": "code",
   "execution_count": 9,
   "id": "7c7e54f4",
   "metadata": {},
   "outputs": [],
   "source": [
    "from itertools import combinations\n",
    "from typing import Set\n",
    "def pairs_group_in_half(k: int) -> List[List[Set[int]]]:\n",
    "    '''\n",
    "    There are 2k people in a group, k>0. \n",
    "    Output: List of all possible pairs \n",
    "    Example: for k=1=> 2 people the list of possible pairs is \n",
    "    [ [ {0}, {1}], [{1} , {0}] ]\n",
    "    '''\n",
    "    assertions(k)\n",
    "    assert k <= 10, \"Splitting a group of more than 20 people results in more than 7*10^5 pairs! Decrease k.\"\n",
    "    group = set(range(2*k))\n",
    "    return [[ set(c) , group - set(c) ] for c in  combinations(range(2*k),k)]"
   ]
  },
  {
   "cell_type": "code",
   "execution_count": 10,
   "id": "e11fa0e8",
   "metadata": {},
   "outputs": [
    {
     "name": "stdout",
     "output_type": "stream",
     "text": [
      "Those pairs are [[{0, 1}, {2, 3}], [{0, 2}, {1, 3}], [{0, 3}, {1, 2}], [{1, 2}, {0, 3}], [{1, 3}, {0, 2}], [{2, 3}, {0, 1}]]\n"
     ]
    }
   ],
   "source": [
    "print(\"Those pairs are {}\".format(pairs_group_in_half(k)))"
   ]
  },
  {
   "cell_type": "markdown",
   "id": "5e41728a",
   "metadata": {},
   "source": [
    "# Stable Matching Problem"
   ]
  },
  {
   "cell_type": "markdown",
   "id": "39e04650",
   "metadata": {},
   "source": [
    "Consider two groups of people of equal size $n$; the proposers and the acceptors (men and women in Stable Marriage Problem).\n",
    "Two preference tables are given; one from the proposers, one from the acceptors. \n",
    "Each preference table contains lists of preferences of each member of a group from the other group. \n",
    "Consider a simple case where there are two proposers ($A$ and $B$) and two acceptors ($a$ and $b$).\n",
    "If $A$ prefers $a$ to $b$ and $B$ prefers $b$ to $a$, while $a$ prefers $B$ to $A$ and $b$ prefers $A$ to $B$ \n",
    "then the preference tables are <br>\n",
    "<h6><center>Proposer's Table</center></h6><br>\n",
    "\n",
    "|  | 1 | 2 |\n",
    "| --- | --- | --- |\n",
    "| $A$ |   $a$  |   $b$ |\n",
    "|$B$  |  $b$   |  $a$ |\n",
    "\n",
    "<h6><center>Acceptor's Table</center></h6><br>\n",
    "\n",
    "|     |  1  |  2  |\n",
    "| --- | --- | --- |\n",
    "| $a$ | $B$ | $A$ |\n",
    "|$b$  | $A$ | $B$ |\n",
    "\n",
    "The goal is to find a stable matching; a mapping from proposers to acceptors so that there is no acceptor-proposer pair $(X,x)$\n",
    "such that $X$ prefers $x$ to their matching acceptor <b>and</b> $x$ prefers $X$ to their current proposer. \n",
    "\n",
    "\n"
   ]
  },
  {
   "cell_type": "code",
   "execution_count": 11,
   "id": "9e648da1",
   "metadata": {},
   "outputs": [],
   "source": [
    "import random\n",
    "from collections.abc import Sequence\n",
    "from tabulate import tabulate"
   ]
  },
  {
   "cell_type": "markdown",
   "id": "d820ea94",
   "metadata": {},
   "source": [
    "## Task 2"
   ]
  },
  {
   "cell_type": "markdown",
   "id": "9520086d",
   "metadata": {},
   "source": [
    "There are multiple ways of representing preference tables. A simple approach is to represent them as \n",
    "dictionaries whose keys correspond to the people in this group and whose values are preference lists\n",
    "of people from the other group. For the example above, the proposer and acceptor \n",
    "preference tables are represented as\n",
    "{$A$: [$a$,$b$], $B$: [$b$,$a$]} and \n",
    "{$a$: [$B$,$A$], $b$: [$A$,$B$]} respectively.<br>\n",
    "However, dictionaries are not restrictive enough for our purposes. Further restrictions include,\n",
    "1. We need to ensure that the values of the dictionary are lists whose values are integer or string (group members),\n",
    "2. Those preference lists need to have consistent lengths equal to the number of keys (size of acceptors = size of proposers),\n",
    "3. No duplicate values are allowed in preference lists (duplicate values as keys are not permitted in dictionaries),\n",
    "4. Preference lists share the same symbols with each other.\n",
    "\n",
    "To restrict the generality of dictionaries we create a class Table that inherits from dict, but also has a validator method \n",
    "which validates the above restrictions and throws errors if they are not satisfied (right_type, consistent_dimension, no_duplicates, same_symbols are class methods that validate 1-4 respectively and return True if they are satisfied and False\n",
    "otherwise). "
   ]
  },
  {
   "cell_type": "code",
   "execution_count": 12,
   "id": "6ecf8a63",
   "metadata": {},
   "outputs": [],
   "source": [
    "# The type of member's in a group is either an integer or a string.\n",
    "Sym: Any = int | str "
   ]
  },
  {
   "cell_type": "code",
   "execution_count": 13,
   "id": "8538d478",
   "metadata": {},
   "outputs": [],
   "source": [
    "class Table(dict):\n",
    "    '''\n",
    "    This class represents the preference tables that are used in the \n",
    "    Stable Matching Problem. \n",
    "    '''\n",
    "    def __init__(self, table: Any):\n",
    "        super().__init__(table)\n",
    "        self.validator()\n",
    "        \n",
    "    def validator(self) -> None:\n",
    "        assert self.right_type(), 'Input does not have right type.'\n",
    "        assert self.consistent_dimension(), 'Input table has a preference list that is not equal to the number of keys.'\n",
    "        assert self.no_duplicates(), 'Input has duplicate values in a preference list.'\n",
    "        assert self.same_symbols(), 'Preference lists do not share the same symbols.'\n",
    "    \n",
    "    def right_type(self) -> bool:\n",
    "        '''Assesses whether table is of the right type'''\n",
    "        return isinstance(self,dict) and  \\\n",
    "                all(isinstance(x, Sequence) for x in self.values()) and \\\n",
    "                all(all(isinstance(y, Sym.__args__) for y in x) for x in self.values())\n",
    "    \n",
    "    def consistent_dimension(self) -> bool: \n",
    "        '''Assesses whether the table preference lists have consistent dimensions'''\n",
    "        n: int = len(self)\n",
    "        return all(len(x) == n for x in self.values())\n",
    "        \n",
    "    def no_duplicates(self) -> bool:\n",
    "        '''Checks whether preference lists contain any duplicates'''\n",
    "        return all(len(pref_list) == len(set(pref_list))  for pref_list in self.values())\n",
    "    \n",
    "    def same_symbols(self) -> bool:\n",
    "        '''Checks whether preference lists share the same symbols.'''\n",
    "        prev = None\n",
    "        for v in self.values():\n",
    "            if prev is not None and set(v) != prev: return False\n",
    "            prev = set(v)\n",
    "        return True"
   ]
  },
  {
   "cell_type": "code",
   "execution_count": 14,
   "id": "7af5745c",
   "metadata": {},
   "outputs": [
    {
     "data": {
      "text/plain": [
       "{'A': ['c', 'b', 'd', 'a'],\n",
       " 'B': ['b', 'a', 'c', 'd'],\n",
       " 'C': ['b', 'd', 'a', 'c'],\n",
       " 'D': ['c', 'a', 'd', 'b']}"
      ]
     },
     "execution_count": 14,
     "metadata": {},
     "output_type": "execute_result"
    }
   ],
   "source": [
    "# add 'E': None to the dict to get an error 'Input does not have right type'\n",
    "# add 'E': [\"a\"] to the dict to get an error 'Input table has a preference list that is not equal to the number of keys.'\n",
    "# add a duplicate to any of the lists below to get 'Input has duplicate values in a preference list.'\n",
    "# change any symbol in any preference list to 'e' to get 'Preference lists do not share the same symbols.'\n",
    "Table({'A': ['c', 'b', 'd', 'a'], 'B': ['b', 'a', 'c', 'd'], \\\n",
    "        'C': ['b', 'd', 'a', 'c'], 'D': ['c', 'a', 'd', 'b']})"
   ]
  },
  {
   "cell_type": "markdown",
   "id": "decc7728",
   "metadata": {},
   "source": [
    "We can extend this class by adding two more methods. \n",
    "As we saw above the table representation does not look appealing. <br>\n",
    "The tables look better when we use the tabulate library in our __repr__ method. <br>\n",
    "The other method is get_rank which we will use later in the problem. \n",
    "It assigns an attribute self.rank which is a rank table. <br>\n",
    "Similar to the preference table, the rank table is a dictionary with the same keys and with inverted preference lists <br>\n",
    "e.g. preference list [\"a\",\"b\",\"c\"] becomes a ranking dictionary {\"a\":1,\"b\":2,\"c\":3, None: 4}. <br>\n",
    "None is a key that corresponds to an imaginary undesirable acceptor or proposer. It always has the highest ranking, because they are the most undesirable. "
   ]
  },
  {
   "cell_type": "code",
   "execution_count": 15,
   "id": "8d0d4427",
   "metadata": {},
   "outputs": [],
   "source": [
    "class Table(Table):\n",
    "    def get_rank(self) -> None: \n",
    "        '''\n",
    "        Creates a version of the table where the preference lists (values of the dictionary) are inverted.\n",
    "        A A preference list [\"a\",\"b\",\"c\"] becomes a ranking dictionary {\"a\":1,\"b\":2,\"c\":3} \n",
    "        so that output[X][y] is the ranking of y according to X.\n",
    "        Rankings begin from zero.\n",
    "        '''\n",
    "        self.rank = {key: {v:i for i,v in enumerate(val)} | {None:len(val)}  for key,val in self.items()}\n",
    "    def __repr__(self) -> str:\n",
    "        '''\n",
    "        Tables are printed using the tabulate library for pretty visualization\n",
    "        '''\n",
    "        n: int = len(self)\n",
    "        matrix: List[List[Sym]] = [[k] + list(v) for k, v in self.items()]\n",
    "        ordinal = lambda n: \"%d%s\" % (n,\"tsnrhtdd\"[(n//10%10!=1)*(n%10<4)*n%10::4])\n",
    "        headers: List[str] = [\"\"] + [ordinal(i) for i in range(1,n+1)]\n",
    "        return str(tabulate(matrix,tablefmt=\"fancy_grid\",headers=headers))"
   ]
  },
  {
   "cell_type": "code",
   "execution_count": 16,
   "id": "96c3141f",
   "metadata": {},
   "outputs": [
    {
     "name": "stdout",
     "output_type": "stream",
     "text": [
      "Proposer table\n",
      "╒════╤═══════╤═══════╤═══════╤═══════╕\n",
      "│    │ 1st   │ 2nd   │ 3rd   │ 4th   │\n",
      "╞════╪═══════╪═══════╪═══════╪═══════╡\n",
      "│ A  │ c     │ b     │ d     │ a     │\n",
      "├────┼───────┼───────┼───────┼───────┤\n",
      "│ B  │ b     │ a     │ c     │ d     │\n",
      "├────┼───────┼───────┼───────┼───────┤\n",
      "│ C  │ b     │ d     │ a     │ c     │\n",
      "├────┼───────┼───────┼───────┼───────┤\n",
      "│ D  │ c     │ a     │ d     │ b     │\n",
      "╘════╧═══════╧═══════╧═══════╧═══════╛\n",
      "Acceptor Table\n",
      "╒════╤═══════╤═══════╤═══════╤═══════╕\n",
      "│    │ 1st   │ 2nd   │ 3rd   │ 4th   │\n",
      "╞════╪═══════╪═══════╪═══════╪═══════╡\n",
      "│ a  │ A     │ B     │ D     │ C     │\n",
      "├────┼───────┼───────┼───────┼───────┤\n",
      "│ b  │ C     │ A     │ D     │ B     │\n",
      "├────┼───────┼───────┼───────┼───────┤\n",
      "│ c  │ C     │ B     │ D     │ A     │\n",
      "├────┼───────┼───────┼───────┼───────┤\n",
      "│ d  │ B     │ A     │ C     │ D     │\n",
      "╘════╧═══════╧═══════╧═══════╧═══════╛\n"
     ]
    }
   ],
   "source": [
    "# This example is given in Ch1 and Ch2 of \n",
    "# Stable Marriage and Its Relation to Other Combinatorial Problems.\n",
    "p1: Table = Table({'A': ['c', 'b', 'd', 'a'], 'B': ['b', 'a', 'c', 'd'], \\\n",
    "        'C': ['b', 'd', 'a', 'c'], 'D': ['c', 'a', 'd', 'b']})\n",
    "a1: Table =  Table({'a': ['A', 'B', 'D', 'C'], 'b': ['C', 'A', 'D', 'B'], \\\n",
    "        'c': ['C', 'B', 'D', 'A'], 'd': ['B', 'A', 'C', 'D']})\n",
    "print(\"Proposer table\")\n",
    "print(p1)\n",
    "print(\"Acceptor Table\")\n",
    "print(a1)"
   ]
  },
  {
   "cell_type": "markdown",
   "id": "9fbc4689",
   "metadata": {},
   "source": [
    "The matching (mapping proposers -> acceptors) will be represented as Dict[Sym,Sym] with proposers and acceptors as keys and values respectively. "
   ]
  },
  {
   "cell_type": "markdown",
   "id": "bac8cfa4",
   "metadata": {},
   "source": [
    "## Task 3"
   ]
  },
  {
   "cell_type": "markdown",
   "id": "607a55ae",
   "metadata": {},
   "source": [
    "We may also want to randomize preference tables. To do so, we extend the Table class to Random_Table and add a method generate_random_table, which takes two sequences of symbols key_syms and val_syms (if they are not given, it uses range(n) as a default for both of them) and returns a preference table (which is then passed to the superclass Table). <br> \n",
    "Note that we do not restrict the key symbols to be distinct from the value symbols (our default wouldn't work). "
   ]
  },
  {
   "cell_type": "code",
   "execution_count": 17,
   "id": "ad6dd20a",
   "metadata": {},
   "outputs": [],
   "source": [
    "class Random_Table(Table): \n",
    "    def __init__(self,n: int, **kwargs ) -> None:\n",
    "        table: Dict[int,Sequence[int]] = self.generate_random_table(n,**kwargs)\n",
    "        super().__init__(table)\n",
    "\n",
    "    def generate_random_table(self,n: int,key_syms: Iterable[Sym]|None = None , \n",
    "                                          val_syms: Iterable[Sym]|None = None) -> Dict[Sym,Sequence[Sym]]:\n",
    "        if key_syms is None: key_syms = range(n)\n",
    "        if val_syms is None: val_syms = range(n)\n",
    "        return {i:random.sample(val_syms,n) for i in key_syms} "
   ]
  },
  {
   "cell_type": "code",
   "execution_count": 18,
   "id": "b3655323",
   "metadata": {},
   "outputs": [
    {
     "name": "stdout",
     "output_type": "stream",
     "text": [
      "Proposer table\n",
      "╒════╤═══════╤═══════╤═══════╤═══════╤═══════╕\n",
      "│    │ 1st   │ 2nd   │ 3rd   │ 4th   │ 5th   │\n",
      "╞════╪═══════╪═══════╪═══════╪═══════╪═══════╡\n",
      "│ a  │ b     │ a     │ e     │ d     │ c     │\n",
      "├────┼───────┼───────┼───────┼───────┼───────┤\n",
      "│ b  │ d     │ e     │ c     │ b     │ a     │\n",
      "├────┼───────┼───────┼───────┼───────┼───────┤\n",
      "│ c  │ a     │ d     │ e     │ b     │ c     │\n",
      "├────┼───────┼───────┼───────┼───────┼───────┤\n",
      "│ d  │ e     │ a     │ c     │ b     │ d     │\n",
      "├────┼───────┼───────┼───────┼───────┼───────┤\n",
      "│ e  │ b     │ a     │ e     │ d     │ c     │\n",
      "╘════╧═══════╧═══════╧═══════╧═══════╧═══════╛\n",
      "Acceptor Table\n",
      "╒════╤═══════╤═══════╤═══════╤═══════╤═══════╕\n",
      "│    │ 1st   │ 2nd   │ 3rd   │ 4th   │ 5th   │\n",
      "╞════╪═══════╪═══════╪═══════╪═══════╪═══════╡\n",
      "│ a  │ a     │ e     │ b     │ d     │ c     │\n",
      "├────┼───────┼───────┼───────┼───────┼───────┤\n",
      "│ b  │ a     │ b     │ d     │ c     │ e     │\n",
      "├────┼───────┼───────┼───────┼───────┼───────┤\n",
      "│ c  │ c     │ b     │ e     │ a     │ d     │\n",
      "├────┼───────┼───────┼───────┼───────┼───────┤\n",
      "│ d  │ c     │ a     │ b     │ d     │ e     │\n",
      "├────┼───────┼───────┼───────┼───────┼───────┤\n",
      "│ e  │ c     │ a     │ e     │ b     │ d     │\n",
      "╘════╧═══════╧═══════╧═══════╧═══════╧═══════╛\n"
     ]
    }
   ],
   "source": [
    "random.seed(1)\n",
    "import string \n",
    "n = 5\n",
    "proposer_syms = string.ascii_lowercase[:n]\n",
    "acceptor_syms = string.ascii_lowercase[:n]\n",
    "p2: Table = Random_Table(n, key_syms=proposer_syms, val_syms = acceptor_syms)\n",
    "a2: Table = Random_Table(n, key_syms=acceptor_syms, val_syms = proposer_syms)\n",
    "print(\"Proposer table\")\n",
    "print(p2)\n",
    "print(\"Acceptor Table\")\n",
    "print(a2)"
   ]
  },
  {
   "cell_type": "markdown",
   "id": "de0a00ad",
   "metadata": {},
   "source": [
    "## Task 4"
   ]
  },
  {
   "cell_type": "markdown",
   "id": "1e0562eb",
   "metadata": {},
   "source": [
    "The Stable_Matching class takes two preference tables and validates that the elements of the preference lists of one table \n",
    "have a 1-1 correspondence with the keys of the other table. "
   ]
  },
  {
   "cell_type": "code",
   "execution_count": 19,
   "id": "a900b2d4",
   "metadata": {},
   "outputs": [],
   "source": [
    "class Stable_Matching:\n",
    "    ''' \n",
    "    This class solves the Stable Matching Problem.\n",
    "    It takes two preference tables (proposer,acceptor) with preference lists as values. \n",
    "    '''\n",
    "    def __init__(self, proposer: Table, \n",
    "                       acceptor: Table) -> None:  \n",
    "        assert isinstance(proposer,Table), 'Proposer is not a Table'   \n",
    "        assert isinstance(acceptor,Table), 'Acceptor is not a Table' \n",
    "        for t in (proposer,acceptor):   t.get_rank()\n",
    "        self.proposer: Table = proposer \n",
    "        self.acceptor: Table = acceptor\n",
    "        assert self.validate_tables_share_symbols(), 'Symbol mismatch between proposer and acceptor'\n",
    "\n",
    "    def validate_tables_share_symbols(self) -> bool:\n",
    "        '''\n",
    "        Validates that the tables share the same symbols in that for every\n",
    "        preference list of a table there is a 1-1 mapping to the keys of the other table\n",
    "        '''\n",
    "        vals2_in_keys1: bool  =  all( set(x) == set(self.proposer.keys()) for x in self.acceptor.values() )\n",
    "        vals1_in_keys2: bool  =  all( set(x) == set(self.acceptor.keys()) for x in self.proposer.values() )\n",
    "        return vals1_in_keys2 and vals2_in_keys1"
   ]
  },
  {
   "cell_type": "markdown",
   "id": "f6aafef0",
   "metadata": {},
   "source": [
    "## Task 5"
   ]
  },
  {
   "cell_type": "markdown",
   "id": "9c223f39",
   "metadata": {},
   "source": [
    "Another method in the Stable_Matching class is matching_is_stable which takes a matching (as a Dict[Sym,Sym]) and returns True if the matching is stable and False otherwise. <br>\n",
    "For every acceptor we loop over the proposers that that acceptor prefers more than the current matching proposer.<br>\n",
    "If any of those proposers prefers that acceptor to their current matching acceptor, the matching is unstable. <br>\n",
    "After trying all acceptors and not finding any instability we return True (matching is stable). <br>\n",
    "Note that we use the ranking table self.proposer.rank to check whether the current matching acceptor of the proposer has a higher ranking than the loop acceptor."
   ]
  },
  {
   "cell_type": "code",
   "execution_count": 20,
   "id": "b3d2271f",
   "metadata": {},
   "outputs": [],
   "source": [
    "class Stable_Matching(Stable_Matching):\n",
    "    def matching_is_stable(self, matching: Dict[Sym,Sym]) -> bool:\n",
    "        '''\n",
    "        For a given matching (which is a dictionary with key=proposer and value=matched_acceptor)\n",
    "        the algorithm checks whether the matching is stable returning True if it is.\n",
    "        '''\n",
    "        acc: Sym   #Acceptor\n",
    "        prop: Sym  #Proposer\n",
    "        props: Iterable[Sym] \n",
    "        for acc, props in self.acceptor.items():\n",
    "            for prop in props:\n",
    "                if acc == matching[prop]:  break\n",
    "                curr_acc: Sym = matching[prop]\n",
    "                if self.proposer.rank[prop][acc] < self.proposer.rank[prop][curr_acc]:   \n",
    "                    return False\n",
    "        return True"
   ]
  },
  {
   "cell_type": "markdown",
   "id": "34ede5a7",
   "metadata": {},
   "source": [
    "## Task 6"
   ]
  },
  {
   "cell_type": "markdown",
   "id": "ca3a7e15",
   "metadata": {},
   "source": [
    "compute_score returns two scores; one for the proposers, the second for the acceptors. <br>\n",
    "Score = sum of rankings"
   ]
  },
  {
   "cell_type": "code",
   "execution_count": 21,
   "id": "cf2db88f",
   "metadata": {},
   "outputs": [],
   "source": [
    "class Stable_Matching(Stable_Matching):\n",
    "    def compute_score(self, matching: Dict[Sym,Sym]) -> Tuple[int,int]:\n",
    "        '''\n",
    "        Computes the score for proposers and acceptors which is defined as the sum of all the rankings \n",
    "        for proposers and acceptors respectively. The higher the score for a group,\n",
    "        the less the aggregate satisfaction for that group. A score of zero corresponds to complete \n",
    "        satisfaction for that group implying that every member of that group got their first preference.\n",
    "        The highest score is (n-1)*n which corresponds to every member of that group getting their last preference,\n",
    "        where n is the number of proposers and acceptors.\n",
    "        '''\n",
    "        score_proposer: int = sum(self.proposer.rank[prop][matching[prop]] for prop in self.proposer)\n",
    "        score_acceptor: int = sum(self.acceptor.rank[matching[prop]][prop] for prop in self.proposer)\n",
    "        return score_proposer, score_acceptor"
   ]
  },
  {
   "cell_type": "markdown",
   "id": "4a4ce0c5",
   "metadata": {},
   "source": [
    "## Task 7"
   ]
  },
  {
   "cell_type": "markdown",
   "id": "3eb7a874",
   "metadata": {},
   "source": [
    "Finally, the solve_problem method solves the Stable Matching Problem for the given preference tables and returns a matching.<br>\n",
    "The algorithm can be found in Chapter 2 page 9 of [Stable Marriage and Its Relation to Other Combinatorial Problems](https://ebookcentral.proquest.com/lib/lancaster/detail.action?docID=4908424). <br>\n",
    "However, instead of removing elements from the preference lists of proposers, we define prop_individual_score which is \n",
    "the preference index of a proposer which is incremented by 1 each time they lose their acceptor (same effect as popping the acceptor).  <br> \n",
    "As mentioned in the get_rank method, we define an imaginary undesirable acceptor as None and give it the highest rank for all proposers. "
   ]
  },
  {
   "cell_type": "code",
   "execution_count": 22,
   "id": "d61b3574",
   "metadata": {},
   "outputs": [],
   "source": [
    "class Stable_Matching(Stable_Matching):\n",
    "    def solve_problem(self) -> Dict[Sym,Sym]:\n",
    "        '''\n",
    "        The Stable Matching Problem is solved using the algorithm descripted in Chapter 2 page 9\n",
    "        of 'Stable Marriage and Its Relation to Other Combinatorial Problems'.\n",
    "        A matching (as a dictionary) is returned.\n",
    "        '''\n",
    "        prop_individual_score: Dict[Sym,int] = {prop:0 for prop in self.proposer}\n",
    "        matching: Dict[Sym,Sym|None] = {prop: None for prop in self.proposer}\n",
    "        inv_matching: Dict[Sym,Sym|None] = {acc: None for acc in self.acceptor}\n",
    "        prop: Sym|None\n",
    "        for prop in self.proposer:\n",
    "            while prop is not None:\n",
    "                acc: Sym = self.proposer[prop][prop_individual_score[prop]]\n",
    "                curr_prop: Sym|None = inv_matching[acc]    \n",
    "                if self.acceptor.rank[acc][prop] < self.acceptor.rank[acc][curr_prop]:\n",
    "                    matching[prop] = acc\n",
    "                    prop, inv_matching[acc] = inv_matching[acc], prop\n",
    "                if prop is not None: prop_individual_score[prop] += 1\n",
    "        return matching"
   ]
  },
  {
   "cell_type": "code",
   "execution_count": 23,
   "id": "ec7779f3",
   "metadata": {},
   "outputs": [
    {
     "name": "stdout",
     "output_type": "stream",
     "text": [
      "Matching found: {'A': 'd', 'B': 'a', 'C': 'b', 'D': 'c'}\n",
      "Matching is stable? True\n",
      "Score for (proposers,acceptors) is (3, 4)\n",
      "------------------------------------------------------------\n",
      "Matching found: {'a': 'b', 'b': 'e', 'c': 'd', 'd': 'c', 'e': 'a'}\n",
      "Matching is stable? True\n",
      "Score for (proposers,acceptors) is (5, 8)\n",
      "------------------------------------------------------------\n"
     ]
    }
   ],
   "source": [
    "for proposer, acceptor in [(p1,a1),(p2,a2)]:\n",
    "    s: Stable_Matching = Stable_Matching(proposer,acceptor)\n",
    "    opt_matching: Dict[Sym,Sym] = s.solve_problem()\n",
    "    print(f\"Matching found: {opt_matching}\")\n",
    "    print(f\"Matching is stable? {s.matching_is_stable(opt_matching)}\")\n",
    "    print(f\"Score for (proposers,acceptors) is {s.compute_score(opt_matching)}\")\n",
    "    print(\"-\"*60)"
   ]
  },
  {
   "cell_type": "markdown",
   "id": "327dddf3",
   "metadata": {},
   "source": [
    "## Task 8"
   ]
  },
  {
   "cell_type": "markdown",
   "id": "0b162fd8",
   "metadata": {},
   "source": [
    "A performance analysis of Stable_Marriage follows. <br>"
   ]
  },
  {
   "cell_type": "code",
   "execution_count": 24,
   "id": "c273292a",
   "metadata": {},
   "outputs": [],
   "source": [
    "import time\n",
    "import matplotlib.pyplot as plt\n",
    "from numpy import log, exp"
   ]
  },
  {
   "cell_type": "code",
   "execution_count": 25,
   "id": "e16966ec",
   "metadata": {},
   "outputs": [],
   "source": [
    "def average_execution_time(fun,M=1000,silent=False):\n",
    "    '''\n",
    "    Takes a function fun and prints the average time it takes to run fun.\n",
    "    The number of simulations is M.\n",
    "    If silent=True, the average execution time is printed instead of executed.\n",
    "    '''\n",
    "    start = time.perf_counter()\n",
    "    for _ in range(M): fun()\n",
    "    end = time.perf_counter()   \n",
    "    aet = (end-start)/M\n",
    "    if silent:  return aet\n",
    "    aet = float('%.2g'%aet)\n",
    "    print(f\"Average time of execution for {fun.__name__} is {aet} seconds.\")"
   ]
  },
  {
   "cell_type": "code",
   "execution_count": 26,
   "id": "2cd6d578",
   "metadata": {},
   "outputs": [],
   "source": [
    "def given_example():\n",
    "    proposer: Table = Table({'A': ['c', 'b', 'd', 'a'], 'B': ['b', 'a', 'c', 'd'], \\\n",
    "        'C': ['b', 'd', 'a', 'c'], 'D': ['c', 'a', 'd', 'b']})\n",
    "    acceptor: Table =  Table({'a': ['A', 'B', 'D', 'C'], 'b': ['C', 'A', 'D', 'B'], \\\n",
    "        'c': ['C', 'B', 'D', 'A'], 'd': ['B', 'A', 'C', 'D']})\n",
    "    s = Stable_Matching(proposer,acceptor)\n",
    "    s.solve_problem()"
   ]
  },
  {
   "cell_type": "markdown",
   "id": "2383ce45",
   "metadata": {},
   "source": [
    "For the given example that we have considered before, we find its average execution time."
   ]
  },
  {
   "cell_type": "code",
   "execution_count": 27,
   "id": "e2a534ad",
   "metadata": {},
   "outputs": [
    {
     "name": "stdout",
     "output_type": "stream",
     "text": [
      "Average time of execution for given_example is 3.7e-05 seconds.\n"
     ]
    }
   ],
   "source": [
    "average_execution_time(given_example)"
   ]
  },
  {
   "cell_type": "markdown",
   "id": "ef995b28",
   "metadata": {},
   "source": [
    "We now consider random preference tables of size $n$. We plot the average execution time as we vary $n$."
   ]
  },
  {
   "cell_type": "code",
   "execution_count": 28,
   "id": "117c270e",
   "metadata": {},
   "outputs": [],
   "source": [
    "def random_example(n):\n",
    "    Stable_Matching(Random_Table(n),Random_Table(n)).solve_problem()"
   ]
  },
  {
   "cell_type": "code",
   "execution_count": 29,
   "id": "2062ddf8",
   "metadata": {},
   "outputs": [],
   "source": [
    "n_vals = list(range(5,101))\n",
    "aets = list()"
   ]
  },
  {
   "cell_type": "code",
   "execution_count": null,
   "id": "ae174e0e",
   "metadata": {},
   "outputs": [],
   "source": [
    "for n in n_vals:\n",
    "    fun = lambda : random_example(n)\n",
    "    fun.__name__ = f\"random_example_n={n}\"\n",
    "    aets.append(average_execution_time(fun,M=20,silent=True))"
   ]
  },
  {
   "cell_type": "markdown",
   "id": "8af7eac0",
   "metadata": {},
   "source": [
    "The theoretical (worst case scenario) time complexity of Stable Matching is $\\mathcal{O} (n^2)$. \n",
    "In practice, it is a bit faster than that. <br>\n",
    "Fitting a linear model $\\log T = A + B * \\log n$, where $T$ is the execution time, \n",
    "we get the estimated time complexity $\\mathcal{O} (n^B)$"
   ]
  },
  {
   "cell_type": "code",
   "execution_count": null,
   "id": "297e8c5f",
   "metadata": {},
   "outputs": [],
   "source": [
    "from sklearn.linear_model import LinearRegression\n",
    "model = LinearRegression().fit( log(n_vals).reshape((-1, 1)) ,  log(aets) )\n",
    "print(f\"The coefficient of linear regression B={round(model.coef_[0],3)}\")"
   ]
  },
  {
   "cell_type": "markdown",
   "id": "c7607202",
   "metadata": {},
   "source": [
    "Note that $B<2$, so the expected time is a bit faster than the worst case scenario (not sure whether that is a statistically significant claim)"
   ]
  },
  {
   "cell_type": "code",
   "execution_count": null,
   "id": "d3512a34",
   "metadata": {},
   "outputs": [],
   "source": [
    "plt.loglog(n_vals,aets)\n",
    "plt.loglog(n_vals, exp(model.intercept_) * n_vals**model.coef_,\\\n",
    "    color='black', linestyle='dashed')\n",
    "plt.xlabel(r\"n\")\n",
    "plt.title(\"Average execution time of Stable Matching\")\n",
    "plt.legend([\"Execution time\",\"Fitted\"])"
   ]
  },
  {
   "cell_type": "markdown",
   "id": "72bdc3f2",
   "metadata": {},
   "source": [
    "## Task 9"
   ]
  },
  {
   "cell_type": "markdown",
   "id": "c0e77f19",
   "metadata": {},
   "source": [
    "Finally, we consider the score distributions for proposers and acceptors for different values of $n$."
   ]
  },
  {
   "cell_type": "code",
   "execution_count": null,
   "id": "5ad04b85",
   "metadata": {},
   "outputs": [],
   "source": [
    "from numpy import transpose, linspace"
   ]
  },
  {
   "cell_type": "code",
   "execution_count": null,
   "id": "5c3e7222",
   "metadata": {},
   "outputs": [],
   "source": [
    "def random_score(n):\n",
    "    '''Returns scores for some random preference tables of size n.'''\n",
    "    r = Stable_Matching(Random_Table(n), Random_Table(n))\n",
    "    match = r.solve_problem()\n",
    "    return r.compute_score(match)"
   ]
  },
  {
   "cell_type": "code",
   "execution_count": null,
   "id": "5e4f8848",
   "metadata": {},
   "outputs": [],
   "source": [
    "def random_scores(n, M= 1000):\n",
    "    scores_prop = [None] * M\n",
    "    scores_acc = [None] * M\n",
    "    for i in range(M):\n",
    "        scores_prop[i], scores_acc[i] = random_score(n)\n",
    "    return scores_prop, scores_acc"
   ]
  },
  {
   "cell_type": "code",
   "execution_count": null,
   "id": "cca57e5c",
   "metadata": {},
   "outputs": [],
   "source": [
    "def plot_hist(n, **kwargs):\n",
    "    scores_prop, scores_acc = random_scores(n,**kwargs)\n",
    "    plt.hist(scores_prop, alpha=0.8)\n",
    "    plt.hist(scores_acc, alpha=0.8)\n",
    "    plt.xlabel(\"Score\")\n",
    "    plt.title(f\"Scores for n={n}\")\n",
    "    plt.legend([\"Proposer\",\"Acceptor\"])"
   ]
  },
  {
   "cell_type": "code",
   "execution_count": null,
   "id": "13097973",
   "metadata": {},
   "outputs": [],
   "source": [
    "random.seed(1)\n",
    "plot_hist(10)"
   ]
  },
  {
   "cell_type": "code",
   "execution_count": null,
   "id": "35119ad3",
   "metadata": {},
   "outputs": [],
   "source": [
    "plot_hist(100)"
   ]
  },
  {
   "cell_type": "markdown",
   "id": "535fdbe7",
   "metadata": {},
   "source": [
    "We observe that the acceptor scores are generally higher and the distributions get further and further apart as we increase $n$. <br> \n",
    "To verify this claim we vary $n$ up to $1024$."
   ]
  },
  {
   "cell_type": "code",
   "execution_count": null,
   "id": "f83ca22a",
   "metadata": {},
   "outputs": [],
   "source": [
    "n_vals =  2**linspace(1,7,10)\n",
    "scores_prop = [None] * len(n_vals)\n",
    "scores_acc = [None] * len(n_vals)"
   ]
  },
  {
   "cell_type": "code",
   "execution_count": null,
   "id": "d9796fe6",
   "metadata": {},
   "outputs": [],
   "source": [
    "### WARNING: This takes a couple of minutes to run\n",
    "for i, n in enumerate(n_vals):\n",
    "    scores_prop[i], scores_acc[i] = random_scores(int(n),M=50)"
   ]
  },
  {
   "cell_type": "code",
   "execution_count": null,
   "id": "0bf3c023",
   "metadata": {},
   "outputs": [],
   "source": [
    "n_vals_str = [str(int(num)) for num in n_vals]\n",
    "ax = plt.subplot()\n",
    "for scores,c in  [(scores_prop,\"blue\"), (scores_acc,\"red\")]:\n",
    "    ax.boxplot(transpose(scores), boxprops=dict(color=c),\n",
    "                capprops=dict(color=c),\n",
    "                whiskerprops=dict(color=c),\n",
    "                flierprops=dict(color=c, markeredgecolor=c),\n",
    "                medianprops=dict(color=c),\n",
    "                positions = n_vals,\n",
    "                widths= n_vals/3\n",
    "                )\n",
    "ax.set_yscale('log')\n",
    "ax.set_xscale('log')\n",
    "ax.set_xlabel(r'n')\n",
    "ax.set_title('Score whisker plots')"
   ]
  },
  {
   "cell_type": "markdown",
   "id": "acd7b105",
   "metadata": {},
   "source": [
    "As you can see from the whisker plot in loglog axis, there is a linear relationship between $\\log S$ and $\\log n$, \n",
    "where $S$ is the score.\n",
    "We hence fit a linear model $\\log S = A + B * \\log n$ for both proposers and acceptors. <br>\n",
    "Scores are of order $\\mathcal{O}(n^{B_P})$ and $\\mathcal{O}(n^{B_A})$ for proposers and acceptors respectively, \n",
    "where $B_P$ and $B_A$ are the corresponding coefficients from the linear fit.<br>\n",
    "We expect that $0< B_P < B_A < 2$, since $ 1 \\leq S(n) \\leq n(n-1) $."
   ]
  },
  {
   "cell_type": "code",
   "execution_count": null,
   "id": "18532b72",
   "metadata": {},
   "outputs": [],
   "source": [
    "from numpy import mean\n",
    "for scores, group in  [(scores_prop,\"proposer\"), (scores_acc,\"acceptor\")]:\n",
    "    means = mean(transpose(scores),axis=0)\n",
    "    model = LinearRegression().fit( log(n_vals).reshape((-1, 1)) ,  log(means) )\n",
    "    print(f\"The coefficient of linear regression for {group} score B={round(model.coef_[0],3)}\")"
   ]
  },
  {
   "cell_type": "markdown",
   "id": "9d38d077",
   "metadata": {},
   "source": [
    "## Task 10"
   ]
  },
  {
   "cell_type": "markdown",
   "id": "1940db11",
   "metadata": {},
   "source": [
    "We now assess whether the code follows the 5 R's as defined by [Benureau and Rougier](https://www.frontiersin.org/articles/10.3389/fninf.2017.00069/full). <br> \n",
    "1. <b> Re-runnable</b>; in requirements.txt (using pipreqs) there is a list of all the libraries that have been used in the making of this project. Using pip, the user can install all these packages and their dependencies. whenever a package is imported and used in the code it is clear. However, if Python changes (perhaps Python4) many fundamental functionalities may change which might require many changes in the code.\n",
    "2. <b> Repeatable</b>; by setting seeds whenever there is randomness, we ensure that the output is always the same (until the seed functions change...). However, we are not saving the outputs of the code to text files, so one has to qualitatively assess whether the outcomes are similar or not.   \n",
    "3. <b> Reproducible</b>; there are many validation methods for the preference tables which would return errors if they are misspecified. However, the git status is not examined to see whether there is any code impurity and results are not saved. Furthermore, time performance of the algorithm will be different depending on the machine. Finally, in the Table class one can add more keys later on without triggering any validation method. I wasn't sure how to get around that. \n",
    "4. <b> Reusable</b>; some documentation is given in this notebook, describing the code and the functions (one can run help(fun) to get the description of that function, class method or class). \n",
    "5. <b> Repeatable</b>; test cases have not been considered in this project. Ideally, before even starting the project one must clearly establish all tests to be used in this project, without being able to push code that violates test cases."
   ]
  },
  {
   "cell_type": "markdown",
   "id": "b5eb84dc",
   "metadata": {},
   "source": [
    "Final note; classes Table, Random_Table, Stable_Matching can be found (better written) in stable_matching.py."
   ]
  }
 ],
 "metadata": {
  "kernelspec": {
   "display_name": "myenv",
   "language": "python",
   "name": "myenv"
  },
  "language_info": {
   "codemirror_mode": {
    "name": "ipython",
    "version": 3
   },
   "file_extension": ".py",
   "mimetype": "text/x-python",
   "name": "python",
   "nbconvert_exporter": "python",
   "pygments_lexer": "ipython3",
   "version": "3.10.0"
  }
 },
 "nbformat": 4,
 "nbformat_minor": 5
}
