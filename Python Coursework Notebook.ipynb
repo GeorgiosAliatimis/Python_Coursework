{
 "cells": [
  {
   "cell_type": "markdown",
   "id": "88c99dc4",
   "metadata": {},
   "source": [
    "## Task 1"
   ]
  },
  {
   "cell_type": "markdown",
   "id": "ee0d685d",
   "metadata": {},
   "source": [
    "### Binary numbers"
   ]
  },
  {
   "cell_type": "markdown",
   "id": "d53b87b8",
   "metadata": {},
   "source": [
    "In this exercise, the inputs are positive integers so we define an assertions \n",
    "function which verifies that."
   ]
  },
  {
   "cell_type": "code",
   "execution_count": 1,
   "id": "db0bc883",
   "metadata": {},
   "outputs": [],
   "source": [
    "def assertions(num:int) -> None:\n",
    "    '''\n",
    "    Input: num \n",
    "    This function asserts whether the input num is a positive integer\n",
    "    '''\n",
    "    assert isinstance(num,int), \"Input to binary_digit_sum should be int\"\n",
    "    assert num > 0, \"Input integer should be positive\""
   ]
  },
  {
   "cell_type": "markdown",
   "id": "7ebcfd9a",
   "metadata": {},
   "source": [
    "The first function returns the sum of digits of a number when it is written in binary. We run this function for num=12."
   ]
  },
  {
   "cell_type": "code",
   "execution_count": 3,
   "id": "b2685304",
   "metadata": {},
   "outputs": [],
   "source": [
    "def binary_digit_sum(num: int) -> int:\n",
    "    ''' \n",
    "    Input: num \n",
    "    Output: sum of digits of num in binary. \n",
    "    Example: num = 12 (base 10) = 1100 (base 2) => output 1+1+0+0 = 2\n",
    "    '''\n",
    "    assertions(num)\n",
    "    res = 0\n",
    "    while num:  num, res = num//2, res + num%2\n",
    "    return res"
   ]
  },
  {
   "cell_type": "code",
   "execution_count": 5,
   "id": "7da46744",
   "metadata": {},
   "outputs": [
    {
     "name": "stdout",
     "output_type": "stream",
     "text": [
      "The binary digit sum of 12 is 2.\n"
     ]
    }
   ],
   "source": [
    "num = 12\n",
    "print(\"The binary digit sum of {} is {}.\".format(num,binary_digit_sum(num)))"
   ]
  },
  {
   "cell_type": "markdown",
   "id": "0fa6a7df",
   "metadata": {},
   "source": [
    "We now write the binary representation of a number (given in base 10) as a list."
   ]
  },
  {
   "cell_type": "code",
   "execution_count": 6,
   "id": "d0d93b44",
   "metadata": {},
   "outputs": [],
   "source": [
    "def binary_array(num: int) -> list[str]:\n",
    "    '''\n",
    "    Input: num \n",
    "    Output: list of digits of num in binary.\n",
    "    Example: num = 12 (base 10) = 1100 (base 2) => output ['1', '1', '0', '0']\n",
    "    '''\n",
    "    assertions(num)\n",
    "    return list(bin(num)[2:])"
   ]
  },
  {
   "cell_type": "code",
   "execution_count": 7,
   "id": "e972579c",
   "metadata": {},
   "outputs": [
    {
     "name": "stdout",
     "output_type": "stream",
     "text": [
      "The binary array representation of 12 is ['1', '1', '0', '0'].\n"
     ]
    }
   ],
   "source": [
    "print(\"The binary array representation of {} is {}.\".format(num,binary_array(num)))"
   ]
  },
  {
   "cell_type": "markdown",
   "id": "b962dfa9",
   "metadata": {},
   "source": [
    "### Groups of people"
   ]
  },
  {
   "cell_type": "markdown",
   "id": "1a986252",
   "metadata": {},
   "source": [
    "We now write a function that computes the number of ways we can split a group of people in two."
   ]
  },
  {
   "cell_type": "code",
   "execution_count": 10,
   "id": "fa6f2688",
   "metadata": {},
   "outputs": [],
   "source": [
    "from math import comb\n",
    "def num_comb_group_in_half(k: int) -> int:\n",
    "    '''\n",
    "    There are 2k people in a group, k>0. \n",
    "    Output: Number of ways of spliting the group to two equally sized groups of k people.\n",
    "    '''\n",
    "    assertions(k)\n",
    "    # There are n choose m ways to split a group of n people into groups of m and n-m. \n",
    "    # Hence our answer is 2k choose k.\n",
    "    return comb(2*k,k)"
   ]
  },
  {
   "cell_type": "code",
   "execution_count": 11,
   "id": "4bb51d7c",
   "metadata": {},
   "outputs": [
    {
     "name": "stdout",
     "output_type": "stream",
     "text": [
      "There are 6 ways of splitting a group of 4 people in groups of 2.\n"
     ]
    }
   ],
   "source": [
    "k = 2\n",
    "print(\"There are {} ways of splitting a group of {} people in groups of {}.\".format(\n",
    "    num_comb_group_in_half(k), 2* k, k\n",
    "))"
   ]
  },
  {
   "cell_type": "markdown",
   "id": "03b707e2",
   "metadata": {},
   "source": [
    "Finally we write a function that returns the possible combinations of half-groups that can be formed from the original group."
   ]
  },
  {
   "cell_type": "code",
   "execution_count": 12,
   "id": "60e750b2",
   "metadata": {},
   "outputs": [],
   "source": [
    "from itertools import combinations\n",
    "from typing import Set\n",
    "def pairs_group_in_half(k: int) -> list[list[Set[int]]]:\n",
    "    '''\n",
    "    There are 2k people in a group, k>0. \n",
    "    Output: List of all possible pairs \n",
    "    Example: for k=1=> 2 people the list of possible pairs is \n",
    "    [ [ {0}, {1}], [{1} , {0}] ]\n",
    "    '''\n",
    "    assertions(k)\n",
    "    assert k <= 10, \"Splitting a group of more than 20 people results in more than 7*10^5 pairs! Decrease k.\"\n",
    "    group = set(range(2*k))\n",
    "    return [[ set(c) , group - set(c) ] for c in  combinations(range(2*k),k)]"
   ]
  },
  {
   "cell_type": "code",
   "execution_count": 13,
   "id": "1d16ea4b",
   "metadata": {},
   "outputs": [
    {
     "name": "stdout",
     "output_type": "stream",
     "text": [
      "Those pairs are [[{0, 1}, {2, 3}], [{0, 2}, {1, 3}], [{0, 3}, {1, 2}], [{1, 2}, {0, 3}], [{1, 3}, {0, 2}], [{2, 3}, {0, 1}]]\n"
     ]
    }
   ],
   "source": [
    "print(\"Those pairs are {}\".format(pairs_group_in_half(k)))"
   ]
  },
  {
   "cell_type": "markdown",
   "id": "9bdcb269",
   "metadata": {},
   "source": [
    "# Stable Marriage Problem"
   ]
  },
  {
   "cell_type": "code",
   "execution_count": 15,
   "id": "dcec317c",
   "metadata": {},
   "outputs": [],
   "source": [
    "import random\n",
    "from collections.abc import Sequence\n",
    "from tabulate import tabulate\n",
    "from typing import Iterable, Dict, List, Sequence, Any, Tuple"
   ]
  },
  {
   "cell_type": "markdown",
   "id": "13eb1d2b",
   "metadata": {},
   "source": [
    "## Task 2"
   ]
  },
  {
   "cell_type": "code",
   "execution_count": 114,
   "id": "25334c05",
   "metadata": {},
   "outputs": [],
   "source": [
    "Sym: Any = int | str"
   ]
  },
  {
   "cell_type": "code",
   "execution_count": 57,
   "id": "d47e831e",
   "metadata": {},
   "outputs": [],
   "source": [
    "class Table(dict):\n",
    "    '''\n",
    "    This class represents the preference tables that are used in the \n",
    "    Stable Matching Problem. \n",
    "    '''\n",
    "    def __init__(self, table: Any):\n",
    "        super().__init__(table)\n",
    "        self.validator()\n",
    "        \n",
    "    def validator(self) -> None:\n",
    "        assert self.right_type(), 'Input does not have right type'\n",
    "        assert self.consistent_dimension(), 'Input table has preference lists of different length'\n",
    "        assert self.no_duplicates(), 'Input has duplicate values in a preference list.'\n",
    "    \n",
    "    def right_type(self) -> bool:\n",
    "        '''Assesses whether table is of the right type'''\n",
    "        return isinstance(self,dict) and  \\\n",
    "                all(isinstance(x, Sequence) for x in self.values()) and \\\n",
    "                all(all(isinstance(y, Sym.__args__) for y in x) for x in self.values())\n",
    "    \n",
    "    def consistent_dimension(self) -> bool: \n",
    "        '''Assesses whether the table preference lists have consistent dimensions'''\n",
    "        n: int = len(self[next(iter(self))])\n",
    "        return all(len(x) == n for x in self.values())\n",
    "        \n",
    "    def no_duplicates(self) -> bool:\n",
    "        '''Checks whether preference lists contain any duplicates'''\n",
    "        return all(len(pref_list) == len(set(pref_list))  for pref_list in self.values())"
   ]
  },
  {
   "cell_type": "code",
   "execution_count": 58,
   "id": "2ed0d540",
   "metadata": {},
   "outputs": [],
   "source": [
    "class Table(Table):\n",
    "    def get_rank(self) -> None: \n",
    "        '''\n",
    "        Creates a version of the table where the preference lists (values of the dictionary) are inverted.\n",
    "        A preference list [\"a\",\"b\",\"c\"] becomes a ranking dictionary {\"a\":1,\"b\":2,\"c\":3} \n",
    "        so that output[X][y] is the ranking of y according to X.\n",
    "        Rankings begin from zero.\n",
    "        '''\n",
    "        self.rank = {key: {v:i for i,v in enumerate(val)} | {None:len(val)}  for key,val in self.items()}\n",
    "    def __repr__(self) -> str:\n",
    "        '''\n",
    "        Tables are printed using the tabulate library for pretty visualization\n",
    "        '''\n",
    "        n: int = len(self)\n",
    "        matrix: List[List[Sym]] = [[k] + list(v) for k, v in self.items()]\n",
    "        ordinal = lambda n: \"%d%s\" % (n,\"tsnrhtdd\"[(n//10%10!=1)*(n%10<4)*n%10::4])\n",
    "        headers: List[str] = [\"\"] + [ordinal(i) for i in range(1,n+1)]\n",
    "        return str(tabulate(matrix,tablefmt=\"fancy_grid\",headers=headers))"
   ]
  },
  {
   "cell_type": "code",
   "execution_count": 59,
   "id": "4c6b2989",
   "metadata": {},
   "outputs": [
    {
     "name": "stdout",
     "output_type": "stream",
     "text": [
      "Proposer table\n",
      "╒════╤═══════╤═══════╤═══════╤═══════╕\n",
      "│    │ 1st   │ 2nd   │ 3rd   │ 4th   │\n",
      "╞════╪═══════╪═══════╪═══════╪═══════╡\n",
      "│ A  │ c     │ b     │ d     │ a     │\n",
      "├────┼───────┼───────┼───────┼───────┤\n",
      "│ B  │ b     │ a     │ c     │ d     │\n",
      "├────┼───────┼───────┼───────┼───────┤\n",
      "│ C  │ b     │ d     │ a     │ c     │\n",
      "├────┼───────┼───────┼───────┼───────┤\n",
      "│ D  │ c     │ a     │ d     │ b     │\n",
      "╘════╧═══════╧═══════╧═══════╧═══════╛\n",
      "Acceptor Table\n",
      "╒════╤═══════╤═══════╤═══════╤═══════╕\n",
      "│    │ 1st   │ 2nd   │ 3rd   │ 4th   │\n",
      "╞════╪═══════╪═══════╪═══════╪═══════╡\n",
      "│ a  │ A     │ B     │ D     │ C     │\n",
      "├────┼───────┼───────┼───────┼───────┤\n",
      "│ b  │ C     │ A     │ D     │ B     │\n",
      "├────┼───────┼───────┼───────┼───────┤\n",
      "│ c  │ C     │ B     │ D     │ A     │\n",
      "├────┼───────┼───────┼───────┼───────┤\n",
      "│ d  │ B     │ A     │ C     │ D     │\n",
      "╘════╧═══════╧═══════╧═══════╧═══════╛\n"
     ]
    }
   ],
   "source": [
    "# This example is given in Ch1 and Ch2 of \n",
    "# Stable Marriage and Its Relation to Other Combinatorial Problems.\n",
    "p1: Table = Table({'A': ['c', 'b', 'd', 'a'], 'B': ['b', 'a', 'c', 'd'], \\\n",
    "        'C': ['b', 'd', 'a', 'c'], 'D': ['c', 'a', 'd', 'b']})\n",
    "a1: Table =  Table({'a': ['A', 'B', 'D', 'C'], 'b': ['C', 'A', 'D', 'B'], \\\n",
    "        'c': ['C', 'B', 'D', 'A'], 'd': ['B', 'A', 'C', 'D']})\n",
    "print(\"Proposer table\")\n",
    "print(p1)\n",
    "print(\"Acceptor Table\")\n",
    "print(a1)"
   ]
  },
  {
   "cell_type": "markdown",
   "id": "53840cc8",
   "metadata": {},
   "source": [
    "## Task 3"
   ]
  },
  {
   "cell_type": "code",
   "execution_count": 60,
   "id": "b88f3499",
   "metadata": {},
   "outputs": [],
   "source": [
    "class Random_Table(Table): \n",
    "    def __init__(self,n: int) -> None:\n",
    "        table: Dict[int,Sequence[int]] = self.generate_random_table(n)\n",
    "        super().__init__(table)\n",
    "\n",
    "    def generate_random_table(self,n: int) -> Dict[Sym,Sequence[Sym]]:\n",
    "        return {i:random.sample(range(n) ,n) for i in range(n)} "
   ]
  },
  {
   "cell_type": "code",
   "execution_count": 61,
   "id": "d64ca7d9",
   "metadata": {},
   "outputs": [
    {
     "name": "stdout",
     "output_type": "stream",
     "text": [
      "Proposer table\n",
      "╒════╤═══════╤═══════╤═══════╤═══════╤═══════╕\n",
      "│    │   1st │   2nd │   3rd │   4th │   5th │\n",
      "╞════╪═══════╪═══════╪═══════╪═══════╪═══════╡\n",
      "│  0 │     1 │     0 │     4 │     3 │     2 │\n",
      "├────┼───────┼───────┼───────┼───────┼───────┤\n",
      "│  1 │     3 │     4 │     2 │     1 │     0 │\n",
      "├────┼───────┼───────┼───────┼───────┼───────┤\n",
      "│  2 │     0 │     3 │     4 │     1 │     2 │\n",
      "├────┼───────┼───────┼───────┼───────┼───────┤\n",
      "│  3 │     4 │     0 │     2 │     1 │     3 │\n",
      "├────┼───────┼───────┼───────┼───────┼───────┤\n",
      "│  4 │     1 │     0 │     4 │     3 │     2 │\n",
      "╘════╧═══════╧═══════╧═══════╧═══════╧═══════╛\n",
      "Acceptor Table\n",
      "╒════╤═══════╤═══════╤═══════╤═══════╤═══════╕\n",
      "│    │   1st │   2nd │   3rd │   4th │   5th │\n",
      "╞════╪═══════╪═══════╪═══════╪═══════╪═══════╡\n",
      "│  0 │     0 │     4 │     1 │     3 │     2 │\n",
      "├────┼───────┼───────┼───────┼───────┼───────┤\n",
      "│  1 │     0 │     1 │     3 │     2 │     4 │\n",
      "├────┼───────┼───────┼───────┼───────┼───────┤\n",
      "│  2 │     2 │     1 │     4 │     0 │     3 │\n",
      "├────┼───────┼───────┼───────┼───────┼───────┤\n",
      "│  3 │     2 │     0 │     1 │     3 │     4 │\n",
      "├────┼───────┼───────┼───────┼───────┼───────┤\n",
      "│  4 │     2 │     0 │     4 │     1 │     3 │\n",
      "╘════╧═══════╧═══════╧═══════╧═══════╧═══════╛\n"
     ]
    }
   ],
   "source": [
    "random.seed(1)\n",
    "p2: Table = Random_Table(n=5)\n",
    "a2: Table = Random_Table(n=5)\n",
    "print(\"Proposer table\")\n",
    "print(p2)\n",
    "print(\"Acceptor Table\")\n",
    "print(a2)"
   ]
  },
  {
   "cell_type": "markdown",
   "id": "e3dbe314",
   "metadata": {},
   "source": [
    "## Task 4"
   ]
  },
  {
   "cell_type": "code",
   "execution_count": 62,
   "id": "bc40043e",
   "metadata": {},
   "outputs": [],
   "source": [
    "class Stable_Matching:\n",
    "    ''' \n",
    "    This class solves the Stable Matching Problem.\n",
    "    It takes two preference tables (proposer,acceptor) with preference lists as values. \n",
    "    '''\n",
    "    def __init__(self, proposer: Table, \n",
    "                       acceptor: Table) -> None:  \n",
    "        assert isinstance(proposer,Table), 'Proposer is not a Table'   \n",
    "        assert isinstance(acceptor,Table), 'Acceptor is not a Table' \n",
    "        for t in (proposer,acceptor):   t.get_rank()\n",
    "        self.proposer: Table = proposer \n",
    "        self.acceptor: Table = acceptor\n",
    "        assert self.validate_tables_share_symbols(), 'Symbol mismatch between proposer and acceptor'\n",
    "\n",
    "    def validate_tables_share_symbols(self) -> bool:\n",
    "        '''\n",
    "        Validates that the tables share the same symbols in that for every\n",
    "        preference list of a table there is a 1-1 mapping to the keys of the other table\n",
    "        '''\n",
    "        vals2_in_keys1: bool  =  all( set(x) == set(self.proposer.keys()) for x in self.acceptor.values() )\n",
    "        vals1_in_keys2: bool  =  all( set(x) == set(self.acceptor.keys()) for x in self.proposer.values() )\n",
    "        return vals1_in_keys2 and vals2_in_keys1"
   ]
  },
  {
   "cell_type": "markdown",
   "id": "0d03e61a",
   "metadata": {},
   "source": [
    "## Task 5"
   ]
  },
  {
   "cell_type": "code",
   "execution_count": 63,
   "id": "70703fc9",
   "metadata": {},
   "outputs": [],
   "source": [
    "class Stable_Matching(Stable_Matching):\n",
    "    def matching_is_stable(self, matching: Dict[Sym,Sym]) -> bool:\n",
    "        '''\n",
    "        For a given matching (which is a dictionary with key=proposer and value=matched_acceptor)\n",
    "        the algorithm checks whether the matching is stable returning True if it is.\n",
    "        '''\n",
    "        acc: Sym   #Acceptor\n",
    "        prop: Sym  #Proposer\n",
    "        props: Iterable[Sym] \n",
    "        for acc, props in self.acceptor.items():\n",
    "            for prop in props:\n",
    "                if acc == matching[prop]:  break\n",
    "                curr_acc: Sym = matching[prop]\n",
    "                if self.proposer.rank[prop][acc] < self.proposer.rank[prop][curr_acc]:   \n",
    "                    return False\n",
    "        return True"
   ]
  },
  {
   "cell_type": "markdown",
   "id": "4c194f26",
   "metadata": {},
   "source": [
    "## Task 6"
   ]
  },
  {
   "cell_type": "code",
   "execution_count": 64,
   "id": "3a16e4b7",
   "metadata": {},
   "outputs": [],
   "source": [
    "class Stable_Matching(Stable_Matching):\n",
    "    def compute_score(self, matching: Dict[Sym,Sym]) -> Tuple[int,int]:\n",
    "        '''\n",
    "        Computes the score for proposers and acceptors which is defined as the sum of all the rankings \n",
    "        for proposers and acceptors respectively. The higher the score for a group,\n",
    "        the less the aggregate satisfaction for that group. A score of zero corresponds to complete \n",
    "        satisfaction for that group implying that every member of that group got their first preference.\n",
    "        The highest score is (n-1)*n which corresponds to every member of that group getting their last preference,\n",
    "        where n is the number of proposers and acceptors.\n",
    "        '''\n",
    "        score_proposer: int = sum(self.proposer.rank[prop][matching[prop]] for prop in self.proposer)\n",
    "        score_acceptor: int = sum(self.acceptor[matching[prop]].index(prop) for prop in self.proposer)\n",
    "        return score_proposer, score_acceptor"
   ]
  },
  {
   "cell_type": "markdown",
   "id": "10802eef",
   "metadata": {},
   "source": [
    "## Task 7"
   ]
  },
  {
   "cell_type": "code",
   "execution_count": 65,
   "id": "0e68df23",
   "metadata": {},
   "outputs": [],
   "source": [
    "class Stable_Matching(Stable_Matching):\n",
    "    def solve_problem(self) -> Dict[Sym,Sym]:\n",
    "        '''\n",
    "        The Stable Matching Problem is solved using the algorithm descripted in Chapter 2 page 9\n",
    "        of 'Stable Marriage and Its Relation to Other Combinatorial Problems'.\n",
    "        A matching (as a dictionary) is returned.\n",
    "        '''\n",
    "        prop_individual_score: Dict[Sym,int] = {prop:0 for prop in self.proposer}\n",
    "        matching: Dict[Sym,Sym|None] = {prop: None for prop in self.proposer}\n",
    "        inv_matching: Dict[Sym,Sym|None] = {acc: None for acc in self.acceptor}\n",
    "        prop: Sym|None\n",
    "        for prop in self.proposer:\n",
    "            while prop is not None:\n",
    "                acc: Sym = self.proposer[prop][prop_individual_score[prop]]\n",
    "                curr_prop: Sym|None = inv_matching[acc]    \n",
    "                if self.acceptor.rank[acc][prop] < self.acceptor.rank[acc][curr_prop]:\n",
    "                    matching[prop] = acc\n",
    "                    prop, inv_matching[acc] = inv_matching[acc], prop\n",
    "                if prop is not None: prop_individual_score[prop] += 1\n",
    "        return matching"
   ]
  },
  {
   "cell_type": "code",
   "execution_count": 66,
   "id": "c4e287ab",
   "metadata": {},
   "outputs": [
    {
     "name": "stdout",
     "output_type": "stream",
     "text": [
      "Matching found: {'A': 'd', 'B': 'a', 'C': 'b', 'D': 'c'}\n",
      "Matching is stable? True\n",
      "Score for (proposers,acceptors) is (3, 4)\n",
      "------------------------------------------------------------\n",
      "Matching found: {0: 1, 1: 4, 2: 3, 3: 2, 4: 0}\n",
      "Matching is stable? True\n",
      "Score for (proposers,acceptors) is (5, 8)\n",
      "------------------------------------------------------------\n"
     ]
    }
   ],
   "source": [
    "for proposer, acceptor in [(p1,a1),(p2,a2)]:\n",
    "    s: Stable_Matching = Stable_Matching(proposer,acceptor)\n",
    "    opt_matching: Dict[Sym,Sym] = s.solve_problem()\n",
    "    print(f\"Matching found: {opt_matching}\")\n",
    "    print(f\"Matching is stable? {s.matching_is_stable(opt_matching)}\")\n",
    "    print(f\"Score for (proposers,acceptors) is {s.compute_score(opt_matching)}\")\n",
    "    print(\"-\"*60)"
   ]
  },
  {
   "cell_type": "markdown",
   "id": "006a63cd",
   "metadata": {},
   "source": [
    "## Task 8"
   ]
  },
  {
   "cell_type": "code",
   "execution_count": 67,
   "id": "57bc4565",
   "metadata": {},
   "outputs": [],
   "source": [
    "import time\n",
    "import matplotlib.pyplot as plt\n",
    "from numpy import log, exp"
   ]
  },
  {
   "cell_type": "code",
   "execution_count": 82,
   "id": "2a90b6aa",
   "metadata": {},
   "outputs": [],
   "source": [
    "def average_execution_time(fun,M=1000,silent=False):\n",
    "    start = time.perf_counter()\n",
    "    for _ in range(M): fun()\n",
    "    end = time.perf_counter()   \n",
    "    aet = (end-start)/M\n",
    "    if silent:  return aet\n",
    "    print(f\"Average time of execution for {fun.__name__} is {aet} seconds.\")"
   ]
  },
  {
   "cell_type": "code",
   "execution_count": 83,
   "id": "e547fe95",
   "metadata": {},
   "outputs": [],
   "source": [
    "def given_example():\n",
    "    proposer: Table = Table({'A': ['c', 'b', 'd', 'a'], 'B': ['b', 'a', 'c', 'd'], \\\n",
    "        'C': ['b', 'd', 'a', 'c'], 'D': ['c', 'a', 'd', 'b']})\n",
    "    acceptor: Table =  Table({'a': ['A', 'B', 'D', 'C'], 'b': ['C', 'A', 'D', 'B'], \\\n",
    "        'c': ['C', 'B', 'D', 'A'], 'd': ['B', 'A', 'C', 'D']})\n",
    "    s = Stable_Matching(proposer,acceptor)\n",
    "    s.solve_problem()"
   ]
  },
  {
   "cell_type": "code",
   "execution_count": 84,
   "id": "0b5b0001",
   "metadata": {},
   "outputs": [
    {
     "name": "stdout",
     "output_type": "stream",
     "text": [
      "Average time of execution for given_example is 5.829469999298453e-05 seconds.\n"
     ]
    }
   ],
   "source": [
    "average_execution_time(given_example)"
   ]
  },
  {
   "cell_type": "code",
   "execution_count": 85,
   "id": "54243326",
   "metadata": {},
   "outputs": [],
   "source": [
    "def random_example(n):\n",
    "    Stable_Matching(Random_Table(n),Random_Table(n)).solve_problem()"
   ]
  },
  {
   "cell_type": "code",
   "execution_count": 86,
   "id": "07c5ed49",
   "metadata": {},
   "outputs": [],
   "source": [
    "n_vals = list(range(5,101))\n",
    "aets = list()\n",
    "for n in n_vals:\n",
    "    fun = lambda : random_example(n)\n",
    "    fun.__name__ = f\"random_example_n={n}\"\n",
    "    aets.append(average_execution_time(fun,M=20,silent=True))"
   ]
  },
  {
   "cell_type": "code",
   "execution_count": 92,
   "id": "9a43bf47",
   "metadata": {},
   "outputs": [
    {
     "name": "stdout",
     "output_type": "stream",
     "text": [
      "The coefficient of linear regression is 1.7039843720851369\n"
     ]
    }
   ],
   "source": [
    "from sklearn.linear_model import LinearRegression\n",
    "model = LinearRegression().fit( log(n_vals).reshape((-1, 1)) ,  log(aets) )\n",
    "print(f\"The coefficient of linear regression is {model.coef_[0]}\")"
   ]
  },
  {
   "cell_type": "code",
   "execution_count": 95,
   "id": "1b87365e",
   "metadata": {},
   "outputs": [
    {
     "data": {
      "text/plain": [
       "<matplotlib.legend.Legend at 0x1d3b583f490>"
      ]
     },
     "execution_count": 95,
     "metadata": {},
     "output_type": "execute_result"
    },
    {
     "data": {
      "image/png": "[encoded data removed]",
      "text/plain": [
       "<Figure size 432x288 with 1 Axes>"
      ]
     },
     "metadata": {
      "needs_background": "light"
     },
     "output_type": "display_data"
    }
   ],
   "source": [
    "plt.loglog(n_vals,aets)\n",
    "plt.loglog(n_vals, exp(model.intercept_) * n_vals**model.coef_,\\\n",
    "    color='black', linestyle='dashed')\n",
    "plt.xlabel(r\"n\")\n",
    "plt.title(\"Average execution time of Stable Marriage\")\n",
    "plt.legend([\"Execution time\",\"Fitted\"])"
   ]
  },
  {
   "cell_type": "markdown",
   "id": "b4268d29",
   "metadata": {},
   "source": [
    "## Task 9"
   ]
  },
  {
   "cell_type": "code",
   "execution_count": 96,
   "id": "20009036",
   "metadata": {},
   "outputs": [],
   "source": [
    "from numpy import transpose, linspace"
   ]
  },
  {
   "cell_type": "code",
   "execution_count": 102,
   "id": "236719b4",
   "metadata": {},
   "outputs": [],
   "source": [
    "def random_score(n):\n",
    "    r = Stable_Matching(Random_Table(n), Random_Table(n))\n",
    "    match = r.solve_problem()\n",
    "    return r.compute_score(match)"
   ]
  },
  {
   "cell_type": "code",
   "execution_count": 103,
   "id": "793372a0",
   "metadata": {},
   "outputs": [],
   "source": [
    "def random_scores(n, M= 1000):\n",
    "    scores_prop = [None] * M\n",
    "    scores_acc = [None] * M\n",
    "    for i in range(M):\n",
    "        scores_prop[i], scores_acc[i] = random_score(n)\n",
    "    return scores_prop, scores_acc"
   ]
  },
  {
   "cell_type": "code",
   "execution_count": 110,
   "id": "fa9f4265",
   "metadata": {},
   "outputs": [],
   "source": [
    "def plot_hist(n, **kwargs):\n",
    "    scores_prop, scores_acc = random_scores(n,**kwargs)\n",
    "    plt.hist(scores_prop, alpha=0.8)\n",
    "    plt.hist(scores_acc, alpha=0.8)\n",
    "    plt.xlabel(\"Score\")\n",
    "    plt.title(f\"Scores for n={n}\")\n",
    "    plt.legend([\"Proposer\",\"Acceptor\"])"
   ]
  },
  {
   "cell_type": "code",
   "execution_count": 111,
   "id": "9b69b4d7",
   "metadata": {},
   "outputs": [
    {
     "data": {
      "image/png": "[encoded data removed]",
      "text/plain": [
       "<Figure size 432x288 with 1 Axes>"
      ]
     },
     "metadata": {
      "needs_background": "light"
     },
     "output_type": "display_data"
    }
   ],
   "source": [
    "random.seed(1)\n",
    "plot_hist(10)"
   ]
  },
  {
   "cell_type": "code",
   "execution_count": 112,
   "id": "7b13fbd3",
   "metadata": {},
   "outputs": [
    {
     "data": {
      "image/png": "[encoded data removed]",
      "text/plain": [
       "<Figure size 432x288 with 1 Axes>"
      ]
     },
     "metadata": {
      "needs_background": "light"
     },
     "output_type": "display_data"
    }
   ],
   "source": [
    "plot_hist(100)"
   ]
  },
  {
   "cell_type": "code",
   "execution_count": 113,
   "id": "0f1eb9a2",
   "metadata": {},
   "outputs": [],
   "source": [
    "n_vals =  2**linspace(1,10,10)\n",
    "scores_prop = [None] * len(n_vals)\n",
    "scores_acc = [None] * len(n_vals)\n",
    "for i, n in enumerate(n_vals):\n",
    "    scores_prop[i], scores_acc[i] = random_scores(int(n),M=50)"
   ]
  },
  {
   "cell_type": "code",
   "execution_count": 116,
   "id": "88aa9df2",
   "metadata": {},
   "outputs": [
    {
     "data": {
      "text/plain": [
       "Text(0.5, 1.0, 'Score whisker plots')"
      ]
     },
     "execution_count": 116,
     "metadata": {},
     "output_type": "execute_result"
    },
    {
     "data": {
      "image/png": "[encoded data removed]",
      "text/plain": [
       "<Figure size 432x288 with 1 Axes>"
      ]
     },
     "metadata": {
      "needs_background": "light"
     },
     "output_type": "display_data"
    }
   ],
   "source": [
    "n_vals_str = [str(int(num)) for num in n_vals]\n",
    "ax = plt.subplot()\n",
    "for score,c in  [(scores_prop,\"blue\"), (scores_acc,\"red\")]:\n",
    "    ax.boxplot(transpose(score), boxprops=dict(color=c),\n",
    "                capprops=dict(color=c),\n",
    "                whiskerprops=dict(color=c),\n",
    "                flierprops=dict(color=c, markeredgecolor=c),\n",
    "                medianprops=dict(color=c),\n",
    "                positions = n_vals,\n",
    "                widths= n_vals/3\n",
    "                )\n",
    "ax.set_yscale('log')\n",
    "ax.set_xscale('log')\n",
    "ax.set_xlabel(r'n')\n",
    "ax.set_title('Score whisker plots')"
   ]
  },
  {
   "cell_type": "markdown",
   "id": "3ebb4fab",
   "metadata": {},
   "source": [
    "## Task 10"
   ]
  },
  {
   "cell_type": "markdown",
   "id": "e26a8ffc",
   "metadata": {},
   "source": []
  }
 ],
 "metadata": {
  "kernelspec": {
   "display_name": "Python 3 (ipykernel)",
   "language": "python",
   "name": "python3"
  },
  "language_info": {
   "codemirror_mode": {
    "name": "ipython",
    "version": 3
   },
   "file_extension": ".py",
   "mimetype": "text/x-python",
   "name": "python",
   "nbconvert_exporter": "python",
   "pygments_lexer": "ipython3",
   "version": "3.10.0"
  }
 },
 "nbformat": 4,
 "nbformat_minor": 5
}
