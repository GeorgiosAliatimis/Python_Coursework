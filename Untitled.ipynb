{
 "cells": [
  {
   "cell_type": "markdown",
   "id": "c929ed02",
   "metadata": {},
   "source": [
    "## Task 1"
   ]
  },
  {
   "cell_type": "markdown",
   "id": "6a8c1631",
   "metadata": {},
   "source": [
    "In this exercise, the inputs are positive integers so we define an assertions \n",
    "function which verifies that."
   ]
  },
  {
   "cell_type": "code",
   "execution_count": 1,
   "id": "68ae0540",
   "metadata": {},
   "outputs": [],
   "source": [
    "def assertions(num:int) -> None:\n",
    "    '''\n",
    "    Input: num \n",
    "    This function asserts whether the input num is a positive integer\n",
    "    '''\n",
    "    assert isinstance(num,int), \"Input to binary_digit_sum should be int\"\n",
    "    assert num > 0, \"Input integer should be positive\""
   ]
  },
  {
   "cell_type": "markdown",
   "id": "2519d205",
   "metadata": {},
   "source": [
    "The first function returns the sum of digits of a number when it is written in binary. We run this function for num=12."
   ]
  },
  {
   "cell_type": "code",
   "execution_count": 3,
   "id": "99b4f295",
   "metadata": {},
   "outputs": [],
   "source": [
    "def binary_digit_sum(num: int) -> int:\n",
    "    ''' \n",
    "    Input: num \n",
    "    Output: sum of digits of num in binary. \n",
    "    Example: num = 12 (base 10) = 1100 (base 2) => output 1+1+0+0 = 2\n",
    "    '''\n",
    "    assertions(num)\n",
    "    res = 0\n",
    "    while num:  num, res = num//2, res + num%2\n",
    "    return res"
   ]
  },
  {
   "cell_type": "code",
   "execution_count": 4,
   "id": "d6f06073",
   "metadata": {},
   "outputs": [
    {
     "name": "stdout",
     "output_type": "stream",
     "text": [
      "The binary digit sum of 12 is 2.\n"
     ]
    }
   ],
   "source": [
    "num = 12\n",
    "print(\"The binary digit sum of {} is {}.\".format(num,binary_digit_sum(num)))"
   ]
  },
  {
   "cell_type": "code",
   "execution_count": null,
   "id": "168b6897",
   "metadata": {},
   "outputs": [],
   "source": []
  }
 ],
 "metadata": {
  "kernelspec": {
   "display_name": "Python 3 (ipykernel)",
   "language": "python",
   "name": "python3"
  },
  "language_info": {
   "codemirror_mode": {
    "name": "ipython",
    "version": 3
   },
   "file_extension": ".py",
   "mimetype": "text/x-python",
   "name": "python",
   "nbconvert_exporter": "python",
   "pygments_lexer": "ipython3",
   "version": "3.10.0"
  }
 },
 "nbformat": 4,
 "nbformat_minor": 5
}
