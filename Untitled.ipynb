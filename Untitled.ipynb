{
 "cells": [
  {
   "cell_type": "markdown",
   "id": "67b963ed",
   "metadata": {},
   "source": [
    "# Task 1"
   ]
  },
  {
   "cell_type": "markdown",
   "id": "fb5f7bda",
   "metadata": {},
   "source": [
    "### Binary numbers"
   ]
  },
  {
   "cell_type": "markdown",
   "id": "abc104c8",
   "metadata": {},
   "source": [
    "In this exercise, the inputs are positive integers so we define an assertions \n",
    "function which verifies that."
   ]
  },
  {
   "cell_type": "code",
   "execution_count": 1,
   "id": "e876302e",
   "metadata": {},
   "outputs": [],
   "source": [
    "def assertions(num:int) -> None:\n",
    "    '''\n",
    "    Input: num \n",
    "    This function asserts whether the input num is a positive integer\n",
    "    '''\n",
    "    assert isinstance(num,int), \"Input to binary_digit_sum should be int\"\n",
    "    assert num > 0, \"Input integer should be positive\""
   ]
  },
  {
   "cell_type": "markdown",
   "id": "6c06a43a",
   "metadata": {},
   "source": [
    "The first function returns the sum of digits of a number when it is written in binary. We run this function for num=12."
   ]
  },
  {
   "cell_type": "code",
   "execution_count": 3,
   "id": "33a22360",
   "metadata": {},
   "outputs": [],
   "source": [
    "def binary_digit_sum(num: int) -> int:\n",
    "    ''' \n",
    "    Input: num \n",
    "    Output: sum of digits of num in binary. \n",
    "    Example: num = 12 (base 10) = 1100 (base 2) => output 1+1+0+0 = 2\n",
    "    '''\n",
    "    assertions(num)\n",
    "    res = 0\n",
    "    while num:  num, res = num//2, res + num%2\n",
    "    return res"
   ]
  },
  {
   "cell_type": "code",
   "execution_count": 5,
   "id": "1fb844b5",
   "metadata": {},
   "outputs": [
    {
     "name": "stdout",
     "output_type": "stream",
     "text": [
      "The binary digit sum of 12 is 2.\n"
     ]
    }
   ],
   "source": [
    "num = 12\n",
    "print(\"The binary digit sum of {} is {}.\".format(num,binary_digit_sum(num)))"
   ]
  },
  {
   "cell_type": "markdown",
   "id": "9c016f72",
   "metadata": {},
   "source": [
    "We now write the binary representation of a number (given in base 10) as a list."
   ]
  },
  {
   "cell_type": "code",
   "execution_count": 6,
   "id": "b4a983e6",
   "metadata": {},
   "outputs": [],
   "source": [
    "def binary_array(num: int) -> list[str]:\n",
    "    '''\n",
    "    Input: num \n",
    "    Output: list of digits of num in binary.\n",
    "    Example: num = 12 (base 10) = 1100 (base 2) => output ['1', '1', '0', '0']\n",
    "    '''\n",
    "    assertions(num)\n",
    "    return list(bin(num)[2:])"
   ]
  },
  {
   "cell_type": "code",
   "execution_count": 7,
   "id": "22a0e9fb",
   "metadata": {},
   "outputs": [
    {
     "name": "stdout",
     "output_type": "stream",
     "text": [
      "The binary array representation of 12 is ['1', '1', '0', '0'].\n"
     ]
    }
   ],
   "source": [
    "print(\"The binary array representation of {} is {}.\".format(num,binary_array(num)))"
   ]
  },
  {
   "cell_type": "markdown",
   "id": "3dd9988c",
   "metadata": {},
   "source": [
    "### Groups of people"
   ]
  },
  {
   "cell_type": "markdown",
   "id": "9c1d7136",
   "metadata": {},
   "source": [
    "We now write a function that computes the number of ways we can split a group of people in two."
   ]
  },
  {
   "cell_type": "code",
   "execution_count": 10,
   "id": "6fbf97a1",
   "metadata": {},
   "outputs": [],
   "source": [
    "from math import comb\n",
    "def num_comb_group_in_half(k: int) -> int:\n",
    "    '''\n",
    "    There are 2k people in a group, k>0. \n",
    "    Output: Number of ways of spliting the group to two equally sized groups of k people.\n",
    "    '''\n",
    "    assertions(k)\n",
    "    # There are n choose m ways to split a group of n people into groups of m and n-m. \n",
    "    # Hence our answer is 2k choose k.\n",
    "    return comb(2*k,k)"
   ]
  },
  {
   "cell_type": "code",
   "execution_count": 11,
   "id": "bc6cffb3",
   "metadata": {},
   "outputs": [
    {
     "name": "stdout",
     "output_type": "stream",
     "text": [
      "There are 6 ways of splitting a group of 4 people in groups of 2.\n"
     ]
    }
   ],
   "source": [
    "k = 2\n",
    "print(\"There are {} ways of splitting a group of {} people in groups of {}.\".format(\n",
    "    num_comb_group_in_half(k), 2* k, k\n",
    "))"
   ]
  },
  {
   "cell_type": "markdown",
   "id": "68cc4ee1",
   "metadata": {},
   "source": [
    "Finally we write a function that returns the possible combinations of half-groups that can be formed from the original group."
   ]
  },
  {
   "cell_type": "code",
   "execution_count": 12,
   "id": "6efb4e76",
   "metadata": {},
   "outputs": [],
   "source": [
    "from itertools import combinations\n",
    "from typing import Set\n",
    "def pairs_group_in_half(k: int) -> list[list[Set[int]]]:\n",
    "    '''\n",
    "    There are 2k people in a group, k>0. \n",
    "    Output: List of all possible pairs \n",
    "    Example: for k=1=> 2 people the list of possible pairs is \n",
    "    [ [ {0}, {1}], [{1} , {0}] ]\n",
    "    '''\n",
    "    assertions(k)\n",
    "    assert k <= 10, \"Splitting a group of more than 20 people results in more than 7*10^5 pairs! Decrease k.\"\n",
    "    group = set(range(2*k))\n",
    "    return [[ set(c) , group - set(c) ] for c in  combinations(range(2*k),k)]"
   ]
  },
  {
   "cell_type": "code",
   "execution_count": 13,
   "id": "cc6a20a0",
   "metadata": {},
   "outputs": [
    {
     "name": "stdout",
     "output_type": "stream",
     "text": [
      "Those pairs are [[{0, 1}, {2, 3}], [{0, 2}, {1, 3}], [{0, 3}, {1, 2}], [{1, 2}, {0, 3}], [{1, 3}, {0, 2}], [{2, 3}, {0, 1}]]\n"
     ]
    }
   ],
   "source": [
    "print(\"Those pairs are {}\".format(pairs_group_in_half(k)))"
   ]
  },
  {
   "cell_type": "markdown",
   "id": "8178bbd9",
   "metadata": {},
   "source": [
    "# Stable Marriage Problem"
   ]
  },
  {
   "cell_type": "code",
   "execution_count": null,
   "id": "d7d31c5a",
   "metadata": {},
   "outputs": [],
   "source": []
  }
 ],
 "metadata": {
  "kernelspec": {
   "display_name": "Python 3 (ipykernel)",
   "language": "python",
   "name": "python3"
  },
  "language_info": {
   "codemirror_mode": {
    "name": "ipython",
    "version": 3
   },
   "file_extension": ".py",
   "mimetype": "text/x-python",
   "name": "python",
   "nbconvert_exporter": "python",
   "pygments_lexer": "ipython3",
   "version": "3.10.0"
  }
 },
 "nbformat": 4,
 "nbformat_minor": 5
}
